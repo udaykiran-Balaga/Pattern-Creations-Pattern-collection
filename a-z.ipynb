{
 "cells": [
  {
   "cell_type": "markdown",
   "id": "8eacb8ee-8a47-4eff-be3b-fbfa804ddb3c",
   "metadata": {},
   "source": [
    "# a"
   ]
  },
  {
   "cell_type": "code",
   "execution_count": 1,
   "id": "8da9adf0-49f4-47f0-8dbd-5e858d5dc06b",
   "metadata": {},
   "outputs": [
    {
     "name": "stdout",
     "output_type": "stream",
     "text": [
      "  * * * *     \n",
      "*         *   \n",
      "          *   \n",
      "  * * * * *   \n",
      "*         *   \n",
      "* * * * * *   \n",
      "            * \n"
     ]
    }
   ],
   "source": [
    "rows=7\n",
    "cols=7\n",
    "\n",
    "for i in range(rows):\n",
    "    for j in range(cols):\n",
    "        if (\n",
    "            (i==0 or i==5) and j!=0 and j<=4 or\n",
    "            (i==3 and j!=0 and j<=4) or\n",
    "            (j==5 and i!=0 and i<6) or\n",
    "            (i==6 and j>5) or\n",
    "            (j==0 and i>3 and i<6) or \n",
    "            (j==0 and i==1)):  \n",
    "             print(\"*\",end=' ')\n",
    "        else:\n",
    "            print(\" \",end=' ')\n",
    "    print()\n",
    "            "
   ]
  },
  {
   "cell_type": "markdown",
   "id": "8736e254-18f0-4abd-827f-4df6466cd0f2",
   "metadata": {},
   "source": [
    "# b"
   ]
  },
  {
   "cell_type": "code",
   "execution_count": 2,
   "id": "f2337ae6-10bb-474e-a96b-392f694575c7",
   "metadata": {},
   "outputs": [
    {
     "name": "stdout",
     "output_type": "stream",
     "text": [
      "*           \n",
      "*           \n",
      "*           \n",
      "* * * * *   \n",
      "*         * \n",
      "*         * \n",
      "* * * * *   \n"
     ]
    }
   ],
   "source": [
    "rows=7\n",
    "cols=6\n",
    "\n",
    "for i in range(rows):\n",
    "    for j in range(cols):\n",
    "        if (\n",
    "            (j==0) or\n",
    "            ((i==3 or i==6) and j!=0 and j<5) or\n",
    "            ((j==5) and i>3 and i<=5)):\n",
    "            print(\"*\",end=' ')\n",
    "        else:\n",
    "            print(\" \",end=' ')\n",
    "    print()\n",
    "            "
   ]
  },
  {
   "cell_type": "markdown",
   "id": "58e0e4cf-7950-4c94-b6ec-015f80f84508",
   "metadata": {},
   "source": [
    "# c"
   ]
  },
  {
   "cell_type": "code",
   "execution_count": 3,
   "id": "9ae0dc45-581d-418f-8494-0af3a121a563",
   "metadata": {},
   "outputs": [
    {
     "name": "stdout",
     "output_type": "stream",
     "text": [
      "  * * * * * \n",
      "*           \n",
      "*           \n",
      "*           \n",
      "*           \n",
      "  * * * * * \n"
     ]
    }
   ],
   "source": [
    "rows=6\n",
    "cols=6\n",
    "for i in range(rows):\n",
    "    for j in range(cols):\n",
    "        if (\n",
    "            j==0 and i!=0 and i!=5 or \n",
    "            (i==0 or i==cols-1) and j>0):\n",
    "            print(\"*\",end=' ')\n",
    "        else:\n",
    "            print(\" \",end=' ')\n",
    "    print()"
   ]
  },
  {
   "cell_type": "markdown",
   "id": "7333178d-86a3-4828-95d8-9de4bf47fd17",
   "metadata": {},
   "source": [
    "# d"
   ]
  },
  {
   "cell_type": "code",
   "execution_count": 4,
   "id": "f8bee713-cc77-4346-b951-a5f21da7601d",
   "metadata": {},
   "outputs": [
    {
     "name": "stdout",
     "output_type": "stream",
     "text": [
      "          * \n",
      "          * \n",
      "          * \n",
      "  * * * * * \n",
      "*         * \n",
      "*         * \n",
      "  * * * * * \n"
     ]
    }
   ],
   "source": [
    "rows=7\n",
    "cols=6\n",
    "\n",
    "for i in range(rows):\n",
    "    for j in range(cols):\n",
    "        if (\n",
    "            (j==5) or\n",
    "            ((i==3 or i==6) and j!=0 and j<5) or\n",
    "            ((j==0) and i>3 and i<=5)):\n",
    "            print(\"*\",end=' ')\n",
    "        else:\n",
    "            print(\" \",end=' ')\n",
    "    print()\n",
    "            "
   ]
  },
  {
   "cell_type": "markdown",
   "id": "8e501f4c-dd9d-4bee-805d-256559510cd1",
   "metadata": {},
   "source": [
    "# e"
   ]
  },
  {
   "cell_type": "code",
   "execution_count": 5,
   "id": "65d6cb6d-06bf-417b-9e78-6ab110802d57",
   "metadata": {},
   "outputs": [
    {
     "name": "stdout",
     "output_type": "stream",
     "text": [
      "  * * * *     \n",
      "*         *   \n",
      "*         *   \n",
      "* * * * *     \n",
      "*             \n",
      "*             \n",
      "  * * * *     \n"
     ]
    }
   ],
   "source": [
    "rows=7\n",
    "cols=7\n",
    "for i in range(rows):\n",
    "    for j in range(cols):\n",
    "        if (\n",
    "            (j==0 and i!=0 and i!=6) or \n",
    "            ((i==0 or i==cols-1) and j>0 and j<5) or\n",
    "            (i==rows//2 and j>0 and j<5) or\n",
    "            (j==5 and i>0 and i<3)):\n",
    "            print(\"*\",end=' ')\n",
    "        else:\n",
    "            print(\" \",end=' ')\n",
    "    print()"
   ]
  },
  {
   "cell_type": "markdown",
   "id": "02b2fefa-44ee-4633-b158-8f43758c39fb",
   "metadata": {},
   "source": [
    "# f"
   ]
  },
  {
   "cell_type": "code",
   "execution_count": 6,
   "id": "9886cc74-9dfe-4067-badc-55ecdfa9ac0e",
   "metadata": {},
   "outputs": [
    {
     "name": "stdout",
     "output_type": "stream",
     "text": [
      "        * * * \n",
      "      *       \n",
      "      *       \n",
      "  * * * * *   \n",
      "      *       \n",
      "      *       \n",
      "      *       \n"
     ]
    }
   ],
   "source": [
    "rows=7\n",
    "cols=7\n",
    "for i in range(rows):\n",
    "    for j in range(cols):\n",
    "        if (\n",
    "            (j==cols//2 and i!=0) or\n",
    "            (i==0 and j>3 and j<cols) or\n",
    "            (i==cols//2 and j>0 and j<6)):\n",
    "             print(\"*\",end=' ')\n",
    "        else:\n",
    "            print(\" \",end=' ')\n",
    "    print()"
   ]
  },
  {
   "cell_type": "markdown",
   "id": "a62ce875-7d64-4774-ad14-17e64c876180",
   "metadata": {},
   "source": [
    "# g"
   ]
  },
  {
   "cell_type": "code",
   "execution_count": 7,
   "id": "57a5721f-fb16-4dea-993a-c31ec09b6c01",
   "metadata": {},
   "outputs": [
    {
     "name": "stdout",
     "output_type": "stream",
     "text": [
      "  * * * *   \n",
      "*       *   \n",
      "*       *   \n",
      "  * * * *   \n",
      "        *   \n",
      "*       *   \n",
      "  * * *     \n"
     ]
    }
   ],
   "source": [
    "rows=7\n",
    "cols=6\n",
    "for i in range(rows):\n",
    "    for j in range(cols):\n",
    "        if (\n",
    "            (j==4 and i!=cols) or\n",
    "        (j==0 and i>0 and i<rows//2) or\n",
    "        ((i==0 or i==rows//2) and j>0 and j<4) or\n",
    "        (j==0 and i==cols-1) or\n",
    "        (i==rows-1 and j>0 and j<4)):\n",
    "            print(\"*\",end=' ')\n",
    "        else:\n",
    "            print(\" \",end=' ')\n",
    "    print()"
   ]
  },
  {
   "cell_type": "markdown",
   "id": "83058f65-4a49-42eb-a99c-f64422d333ba",
   "metadata": {},
   "source": [
    "# h"
   ]
  },
  {
   "cell_type": "code",
   "execution_count": 8,
   "id": "a5b232fb-b102-4dce-b63b-17a019274336",
   "metadata": {},
   "outputs": [
    {
     "name": "stdout",
     "output_type": "stream",
     "text": [
      "*           \n",
      "*           \n",
      "*           \n",
      "* * *       \n",
      "*     *     \n",
      "*     *     \n",
      "*     *     \n"
     ]
    }
   ],
   "source": [
    "rows=7\n",
    "cols=6\n",
    "for i in range(rows):\n",
    "    for j in  range(cols):\n",
    "        if (\n",
    "            (j==0) or\n",
    "            (i==rows//2 and j<cols//2) or \n",
    "            (j==cols/2 and i>rows//2)):\n",
    "            print('*',end=' ')\n",
    "        else:\n",
    "           print(' ',end=' ') \n",
    "    print()"
   ]
  },
  {
   "cell_type": "markdown",
   "id": "7de2c5fb-9847-41a6-9660-c417016f0619",
   "metadata": {},
   "source": [
    "# i"
   ]
  },
  {
   "cell_type": "code",
   "execution_count": 9,
   "id": "5bba959e-a0e0-4fb4-b84a-fbb7feb0d409",
   "metadata": {},
   "outputs": [
    {
     "name": "stdout",
     "output_type": "stream",
     "text": [
      "      *     \n",
      "            \n",
      "      *     \n",
      "      *     \n",
      "      *     \n",
      "      *     \n",
      "      *     \n"
     ]
    }
   ],
   "source": [
    "cols=6\n",
    "rows=7\n",
    "for i in range(rows):\n",
    "    for j in range(cols):\n",
    "        if (\n",
    "            (j==cols//2 and i!=1)):\n",
    "            print(\"*\",end=' ')\n",
    "        else:\n",
    "            print(\" \",end=\" \")\n",
    "    print()"
   ]
  },
  {
   "cell_type": "markdown",
   "id": "4e390554-b9a5-4be1-a39f-97db5d849a68",
   "metadata": {},
   "source": [
    "# j"
   ]
  },
  {
   "cell_type": "code",
   "execution_count": 10,
   "id": "548bb014-5b05-4988-8055-cb2fe674bae7",
   "metadata": {},
   "outputs": [
    {
     "name": "stdout",
     "output_type": "stream",
     "text": [
      "      *     \n",
      "            \n",
      "      *     \n",
      "      *     \n",
      "      *     \n",
      "      *     \n",
      "*     *     \n",
      "  * *       \n"
     ]
    }
   ],
   "source": [
    "cols=6\n",
    "rows=8\n",
    "for i in range(rows):\n",
    "    for j in range(cols):\n",
    "        if (\n",
    "            (j==cols//2 and i!=1 and i!=rows-1) or\n",
    "            (i==rows-1 and j>0 and j<cols//2) or\n",
    "            (i==rows-2 and j==0)):\n",
    "            print(\"*\",end=' ')\n",
    "        else:\n",
    "            print(\" \",end=\" \")\n",
    "    print()"
   ]
  },
  {
   "cell_type": "markdown",
   "id": "53dd2618-7ba8-4cd6-bc10-19581ac4bcdb",
   "metadata": {},
   "source": [
    "# k"
   ]
  },
  {
   "cell_type": "code",
   "execution_count": 11,
   "id": "d896f0eb-6cad-4e8b-b674-418723643516",
   "metadata": {},
   "outputs": [
    {
     "name": "stdout",
     "output_type": "stream",
     "text": [
      "  *       \n",
      "  *     * \n",
      "  *   *   \n",
      "  * *     \n",
      "  *   *   \n",
      "  *     * \n"
     ]
    }
   ],
   "source": [
    "rows=6\n",
    "cols=6\n",
    "for i in range(0,rows):\n",
    "    for j in range(1,cols):\n",
    "        if(\n",
    "            (j==2) or\n",
    "            ((i+j)==6 and j>2) or\n",
    "            (i==j and  j>=3)\n",
    "            ):\n",
    "            print(\"*\",end=' ')\n",
    "        else:\n",
    "            print(\" \",end=' ')\n",
    "    print()\n",
    "    "
   ]
  },
  {
   "cell_type": "markdown",
   "id": "abfd3be0-3f46-484b-8372-e8b9c1476182",
   "metadata": {},
   "source": [
    "# l"
   ]
  },
  {
   "cell_type": "code",
   "execution_count": 12,
   "id": "e21943d2-455a-4d38-96f0-2906ac91abb3",
   "metadata": {},
   "outputs": [
    {
     "name": "stdout",
     "output_type": "stream",
     "text": [
      "      *     \n",
      "      *     \n",
      "      *     \n",
      "      *     \n",
      "      *     \n",
      "      *     \n",
      "      *     \n"
     ]
    }
   ],
   "source": [
    "cols=6\n",
    "rows=7\n",
    "for i in range(rows):\n",
    "    for j in range(cols):\n",
    "        if (\n",
    "            (j==cols//2)):\n",
    "            print(\"*\",end=' ')\n",
    "        else:\n",
    "            print(\" \",end=\" \")\n",
    "    print()"
   ]
  },
  {
   "cell_type": "markdown",
   "id": "b51d1a75-082b-4bf4-9159-40ead3e8ffce",
   "metadata": {},
   "source": [
    "# m"
   ]
  },
  {
   "cell_type": "code",
   "execution_count": 13,
   "id": "b9ef6a40-6be6-4287-a9fb-a52760f4f399",
   "metadata": {},
   "outputs": [
    {
     "name": "stdout",
     "output_type": "stream",
     "text": [
      "*   * *   * *   \n",
      "  *     *     * \n",
      "  *     *     * \n",
      "  *     *     * \n",
      "  *     *     * \n"
     ]
    }
   ],
   "source": [
    "rows=5\n",
    "cols=8\n",
    "for i in range(rows):\n",
    "    for j in range(cols):\n",
    "        if (\n",
    "            (j==0 and i==0) or \n",
    "            (j==4 and i!=0 or j==cols-1 and i!=0) or\n",
    "            (i==0 and j==2) or\n",
    "            (i==0 and j==5) or\n",
    "            (i==0 and j==6) or\n",
    "            (i==0 and j==2) or\n",
    "            (i==0 and j==3) or\n",
    "            (j==1 and i>0)):\n",
    "            print(\"*\",end=' ')\n",
    "        else:\n",
    "            print(\" \",end=' ')\n",
    "    print()\n",
    "    "
   ]
  },
  {
   "cell_type": "markdown",
   "id": "12b949ac-f3ea-4411-b4ed-8cca408841f8",
   "metadata": {},
   "source": [
    "# n"
   ]
  },
  {
   "cell_type": "code",
   "execution_count": 14,
   "id": "a45992d4-1a48-4144-9a71-69a42b3a98c8",
   "metadata": {},
   "outputs": [
    {
     "name": "stdout",
     "output_type": "stream",
     "text": [
      "*   * * *   \n",
      "  *       * \n",
      "  *       * \n",
      "  *       * \n",
      "  *       * \n"
     ]
    }
   ],
   "source": [
    "rows=5\n",
    "cols=6\n",
    "for i in range(rows):\n",
    "    for j in range(cols):\n",
    "        if (\n",
    "            (i==0 and j==0) or\n",
    "            (j==1 and i>0) or \n",
    "            (j==cols-1 and i!=0) or\n",
    "            (i==0 and j>1 and j<cols-1)):\n",
    "            print(\"*\",end=' ')\n",
    "        else:\n",
    "            print(\" \",end=' ')\n",
    "    print()\n",
    "     \n",
    "            "
   ]
  },
  {
   "cell_type": "markdown",
   "id": "e9343e68-cf60-4d6a-b4f0-6eade8ee635c",
   "metadata": {},
   "source": [
    "# o"
   ]
  },
  {
   "cell_type": "code",
   "execution_count": 15,
   "id": "84f10f2c-b5f7-4b18-8055-f2edefd340b6",
   "metadata": {},
   "outputs": [
    {
     "name": "stdout",
     "output_type": "stream",
     "text": [
      "  * * *   \n",
      "*       * \n",
      "*       * \n",
      "*       * \n",
      "  * * *   \n"
     ]
    }
   ],
   "source": [
    "rows=5\n",
    "cols=5\n",
    "for i in range(rows):\n",
    "    for j in range(cols):\n",
    "        if(\n",
    "            (j==0 or j==cols-1)  and i!=0 and i!=rows-1 or\n",
    "            (i==0 or i==rows-1) and j>0 and j<cols-1\n",
    "            \n",
    "        ):\n",
    "            print(\"*\",end=' ')\n",
    "        else:\n",
    "            print(\" \",end=' ')\n",
    "    print()"
   ]
  },
  {
   "cell_type": "markdown",
   "id": "53b9ad5f-da96-41c6-963a-5777323026dd",
   "metadata": {},
   "source": [
    "# p"
   ]
  },
  {
   "cell_type": "code",
   "execution_count": 16,
   "id": "962358b9-4eec-4a28-aa96-6b65a961f400",
   "metadata": {},
   "outputs": [
    {
     "name": "stdout",
     "output_type": "stream",
     "text": [
      "* * *   \n",
      "*     * \n",
      "*     * \n",
      "* * *   \n",
      "*       \n",
      "*       \n",
      "*       \n"
     ]
    }
   ],
   "source": [
    "rows=7\n",
    "cols=4\n",
    "\n",
    "for i in range(rows):\n",
    "    for j in range(cols):\n",
    "        if(\n",
    "            (j==0) and i!=0 or\n",
    "            (i==0 and j<cols-1 ) or\n",
    "            (i==rows//2 and j<cols-1) or\n",
    "            (j==cols-1  and i>0 and i<rows//2)\n",
    "            ):\n",
    "            print(\"*\",end=' ')\n",
    "        else:\n",
    "            print(\" \",end=' ')\n",
    "    print()"
   ]
  },
  {
   "cell_type": "markdown",
   "id": "2922f914-0c35-42a6-b2b8-72084c0e98e0",
   "metadata": {},
   "source": [
    "# q"
   ]
  },
  {
   "cell_type": "code",
   "execution_count": 17,
   "id": "e0957acb-8f6c-4644-8267-91cbbab85925",
   "metadata": {},
   "outputs": [
    {
     "name": "stdout",
     "output_type": "stream",
     "text": [
      "  * * * *   \n",
      "*       *   \n",
      "*       *   \n",
      "  * * * *   \n",
      "        *   \n",
      "        *   \n",
      "        *   \n"
     ]
    }
   ],
   "source": [
    "rows=7\n",
    "cols=6\n",
    "for i in range(rows):\n",
    "    for j in range(cols):\n",
    "        if (\n",
    "            (j==4) or\n",
    "        (j==0 and i>0 and i<rows//2) or\n",
    "        ((i==0 or i==rows//2) and j>0 and j<4)):\n",
    "            print(\"*\",end=' ')\n",
    "        else:\n",
    "            print(\" \",end=' ')\n",
    "    print()"
   ]
  },
  {
   "cell_type": "markdown",
   "id": "7c7cb01c-ff4d-4205-a80c-0d30199df5c0",
   "metadata": {},
   "source": [
    "# r"
   ]
  },
  {
   "cell_type": "code",
   "execution_count": 18,
   "id": "3ecca289-365a-4206-b904-2cb3e0d06501",
   "metadata": {},
   "outputs": [
    {
     "name": "stdout",
     "output_type": "stream",
     "text": [
      "*   * *     \n",
      "  *         \n",
      "  *         \n",
      "  *         \n",
      "  *         \n"
     ]
    }
   ],
   "source": [
    "rows=5\n",
    "cols=6\n",
    "for i in range(rows):\n",
    "    for j in range(cols):\n",
    "        if (\n",
    "            (j==1 and i!=0) or \n",
    "            (i==0 and j==0) or\n",
    "            (i==0 and j>1 and j<=3)):\n",
    "            print(\"*\",end=' ')\n",
    "        else:\n",
    "            print(\" \",end=' ')\n",
    "    print()"
   ]
  },
  {
   "cell_type": "markdown",
   "id": "54aa655c-eaf4-499c-a90d-c5ce4c6e35db",
   "metadata": {},
   "source": [
    "# s"
   ]
  },
  {
   "cell_type": "code",
   "execution_count": 19,
   "id": "667e3ba6-1404-4f28-b606-6d4d20e44cdd",
   "metadata": {},
   "outputs": [
    {
     "name": "stdout",
     "output_type": "stream",
     "text": [
      "  * * * *   \n",
      "*           \n",
      "*           \n",
      "  * * * *   \n",
      "          * \n",
      "          * \n",
      "  * * * *   \n"
     ]
    }
   ],
   "source": [
    "rows=7\n",
    "cols=6\n",
    "for i in range(rows):\n",
    "    for j in range(cols):\n",
    "        if(\n",
    "            (j==0 and i>0 and i<rows//2) or\n",
    "            (j==cols-1 and i>=(rows//2)+1 and i<rows-1) or\n",
    "            (i==rows//2 and j>0 and j<cols-1) or\n",
    "            (i==0 or i==rows-1) and j>0 and j<cols-1\n",
    "            \n",
    "        ):\n",
    "            print(\"*\",end=' ')\n",
    "        else:\n",
    "            print(\" \",end=' ')\n",
    "    print()"
   ]
  },
  {
   "cell_type": "markdown",
   "id": "350edbde-5fa3-40c4-8b9d-8c0f49c2f636",
   "metadata": {},
   "source": [
    "### t"
   ]
  },
  {
   "cell_type": "code",
   "execution_count": 20,
   "id": "46b0fb7a-77b9-4ee2-ad39-a59214cadc9a",
   "metadata": {},
   "outputs": [
    {
     "name": "stdout",
     "output_type": "stream",
     "text": [
      "      *       \n",
      "    * * * *   \n",
      "      *       \n",
      "      *       \n",
      "      *       \n",
      "      *       \n",
      "        * * * \n"
     ]
    }
   ],
   "source": [
    "rows=7\n",
    "cols=7\n",
    "for i in range(rows):\n",
    "    for j in range(cols):\n",
    "        if (\n",
    "            (j==cols//2 and i!=rows-1) or\n",
    "            (i==rows-1 and j>3 and j<cols) or\n",
    "            (i==1 and j>1 and j<6\n",
    "            )):\n",
    "             print(\"*\",end=' ')\n",
    "        else:\n",
    "            print(\" \",end=' ')\n",
    "    print()"
   ]
  },
  {
   "cell_type": "markdown",
   "id": "efdbb0a3-3ae7-4d79-9cd5-984abb379ac9",
   "metadata": {},
   "source": [
    "# u"
   ]
  },
  {
   "cell_type": "code",
   "execution_count": 21,
   "id": "73e2d3e4-910b-44bb-bf95-e9446933661f",
   "metadata": {},
   "outputs": [
    {
     "name": "stdout",
     "output_type": "stream",
     "text": [
      "*         * \n",
      "*         * \n",
      "*         * \n",
      "*       * * \n",
      "  * * *   * \n"
     ]
    }
   ],
   "source": [
    "rows=5\n",
    "cols=6\n",
    "for i in range(rows):\n",
    "    for j in range(cols):\n",
    "        if(\n",
    "            (j==0 and i!=rows-1) or\n",
    "            (j==cols-1) or\n",
    "            (j==cols-2 and i==rows-2) or\n",
    "            (i==rows-1 and j>0 and j<cols-2)\n",
    "            \n",
    "        ):\n",
    "            print(\"*\",end=' ')\n",
    "        else:\n",
    "            print(\" \",end=' ')\n",
    "    print()"
   ]
  },
  {
   "cell_type": "markdown",
   "id": "8ff95e0c-7f4a-4720-8151-dbcba2659670",
   "metadata": {},
   "source": [
    "# v"
   ]
  },
  {
   "cell_type": "code",
   "execution_count": 22,
   "id": "175e3172-a94a-4c51-ab8a-346f7279173b",
   "metadata": {},
   "outputs": [
    {
     "name": "stdout",
     "output_type": "stream",
     "text": [
      "*       *\n",
      " *     * \n",
      "  *   *  \n",
      "   * *   \n",
      "    *    \n"
     ]
    }
   ],
   "source": [
    "n=5\n",
    "for i in range(n):\n",
    "        for j in range(n):\n",
    "            if j == i:\n",
    "                print(\"*\", end=\"\")\n",
    "            else:\n",
    "                print(\" \", end=\"\")\n",
    "        for j in range(n - 2, -1, -1):\n",
    "            if j == i:\n",
    "                print(\"*\", end=\"\")\n",
    "            else:\n",
    "                print(\" \", end=\"\")\n",
    "        print()"
   ]
  },
  {
   "cell_type": "markdown",
   "id": "fd28c877-ec5a-4203-af1f-c132d9e00974",
   "metadata": {},
   "source": [
    "# w"
   ]
  },
  {
   "cell_type": "code",
   "execution_count": 23,
   "id": "d20d26e2-c9b7-4db2-afd7-46248ce7f398",
   "metadata": {},
   "outputs": [
    {
     "name": "stdout",
     "output_type": "stream",
     "text": [
      "*       * \n",
      "*       * \n",
      "*   *   * \n",
      "* *   * * \n",
      "*       * \n"
     ]
    }
   ],
   "source": [
    "rows=6\n",
    "cols=6\n",
    "for i in range(1,rows):\n",
    "    for j in range(1,cols):\n",
    "        if(\n",
    "            (j==1 and i!=rows-1)  or\n",
    "            (j==cols-1 and i!=rows-1) or\n",
    "            (i==j and i>2) or\n",
    "            ((i+j==6) and i>3)\n",
    "        ):\n",
    "            print(\"*\",end=' ')\n",
    "        else:\n",
    "            print(\" \",end=' ')\n",
    "    print()"
   ]
  },
  {
   "cell_type": "markdown",
   "id": "4a614e55-4964-47d4-acff-346794d7d744",
   "metadata": {},
   "source": [
    "# x"
   ]
  },
  {
   "cell_type": "code",
   "execution_count": 24,
   "id": "ecb9c423-1d27-493b-998b-562527d16156",
   "metadata": {},
   "outputs": [
    {
     "name": "stdout",
     "output_type": "stream",
     "text": [
      "*       * \n",
      "  *   *   \n",
      "    *     \n",
      "  *   *   \n",
      "*       * \n"
     ]
    }
   ],
   "source": [
    "rows=6\n",
    "cols=6\n",
    "for i in range(1,rows):\n",
    "    for j in range(1,cols):\n",
    "        if (\n",
    "            (i==j or i+j==6) and  (i<4 or i>3)\n",
    "        ):\n",
    "            print(\"*\",end=' ')\n",
    "        else:\n",
    "            print(\" \",end=' ')\n",
    "    print()"
   ]
  },
  {
   "cell_type": "markdown",
   "id": "0b147435-786e-4f2f-be8b-feb7a0cc7687",
   "metadata": {},
   "source": [
    "# y"
   ]
  },
  {
   "cell_type": "code",
   "execution_count": 25,
   "id": "811d0408-88ba-4e44-9465-8cb0bb67e322",
   "metadata": {},
   "outputs": [
    {
     "name": "stdout",
     "output_type": "stream",
     "text": [
      "*       * \n",
      "  *   *   \n",
      "    *     \n",
      "  *       \n",
      "*         \n"
     ]
    }
   ],
   "source": [
    "rows=6\n",
    "cols=6\n",
    "for i in range(1,rows):\n",
    "    for j in range(1,cols):\n",
    "        if (\n",
    "            (i==j and i<4) or \n",
    "            (i+j==6 and i>0)           \n",
    "        ):\n",
    "            print(\"*\",end=' ')\n",
    "        else:\n",
    "            print(\" \",end=' ')\n",
    "    print()"
   ]
  },
  {
   "cell_type": "markdown",
   "id": "85897e3c-4165-481a-92cc-76f9c67afa9c",
   "metadata": {},
   "source": [
    "# z"
   ]
  },
  {
   "cell_type": "code",
   "execution_count": 26,
   "id": "11be5c32-2be0-4bdb-b0b1-f3188b06fbef",
   "metadata": {},
   "outputs": [
    {
     "name": "stdout",
     "output_type": "stream",
     "text": [
      "  * * * * * \n",
      "        *   \n",
      "      *     \n",
      "    *       \n",
      "  * * * * * \n"
     ]
    }
   ],
   "source": [
    "rows=6\n",
    "cols=7\n",
    "for i in range(1,rows):\n",
    "    for j in range(1,cols):\n",
    "        if(\n",
    "            (i+j==7) or\n",
    "            (i==1 and j>1 and j<cols-1) or\n",
    "            (i==rows-1 and j>2)\n",
    "        ):\n",
    "            print(\"*\",end=' ')\n",
    "        else:\n",
    "            print(\" \",end=' ')\n",
    "    print()"
   ]
  },
  {
   "cell_type": "code",
   "execution_count": null,
   "id": "c0a3ef98-76e9-4894-935e-7cb87f726c46",
   "metadata": {},
   "outputs": [],
   "source": []
  }
 ],
 "metadata": {
  "kernelspec": {
   "display_name": "Python 3 (ipykernel)",
   "language": "python",
   "name": "python3"
  },
  "language_info": {
   "codemirror_mode": {
    "name": "ipython",
    "version": 3
   },
   "file_extension": ".py",
   "mimetype": "text/x-python",
   "name": "python",
   "nbconvert_exporter": "python",
   "pygments_lexer": "ipython3",
   "version": "3.12.0"
  }
 },
 "nbformat": 4,
 "nbformat_minor": 5
}
