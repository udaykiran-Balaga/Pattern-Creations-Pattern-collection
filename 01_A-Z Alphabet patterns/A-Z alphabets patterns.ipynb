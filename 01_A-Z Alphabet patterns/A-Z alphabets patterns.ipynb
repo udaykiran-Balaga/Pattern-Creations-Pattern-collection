{
 "cells": [
  {
   "cell_type": "markdown",
   "id": "9985b588-d6a8-44a9-82ac-c15e6a38956e",
   "metadata": {},
   "source": [
    "# A"
   ]
  },
  {
   "cell_type": "code",
   "execution_count": 1,
   "id": "ad1aeada-3f36-4785-afd5-edf6e09cbf98",
   "metadata": {},
   "outputs": [
    {
     "name": "stdout",
     "output_type": "stream",
     "text": [
      "          *           \n",
      "        *   *         \n",
      "      *       *       \n",
      "    * * * * * * *     \n",
      "  *               *   \n",
      "*                   * \n"
     ]
    }
   ],
   "source": [
    "n=6\n",
    "for i in range(n):\n",
    "        for j in range(5,-1,-1):\n",
    "                if (i==j):  \n",
    "                        print(\"*\",end=' ')\n",
    "                elif ( i==n//2 and j>=0 and j<3):\n",
    "                        print(\"*\",end=' ')\n",
    "                else:\n",
    "                        print(\" \",end=' ')\n",
    "        for j in range(1,6):\n",
    "                if(i==j):\n",
    "                        print(\"*\",end=' ')\n",
    "                elif ( i==n//2 and j>=0 and j<3):\n",
    "                        print(\"*\",end=' ')\n",
    "                else:\n",
    "                        print(\" \",end=' ')\n",
    "        print()"
   ]
  },
  {
   "cell_type": "markdown",
   "id": "18f0bae3-b3b4-4f04-bf0d-a4acb9d6dbb9",
   "metadata": {},
   "source": [
    "# B"
   ]
  },
  {
   "cell_type": "code",
   "execution_count": 2,
   "id": "3436ef77-6ec4-4834-8841-9d296feebb0c",
   "metadata": {},
   "outputs": [
    {
     "name": "stdout",
     "output_type": "stream",
     "text": [
      "* * * * * *   \n",
      "*           * \n",
      "*           * \n",
      "* * * * * *   \n",
      "*           * \n",
      "*           * \n",
      "* * * * * *   \n"
     ]
    }
   ],
   "source": [
    "rows=7\n",
    "cols=7\n",
    "for i in range(rows):\n",
    "    for j in range(cols):\n",
    "        if (\n",
    "            (j==0) or (j==cols-1) and i!=0 and i!=3 and i!=6 or\n",
    "            (i==rows//2 and j<6) or\n",
    "            (i==0 or i==6) and j<6 ):\n",
    "            print(\"*\",end=' ')\n",
    "        else:\n",
    "            print(\" \",end=' ')\n",
    "    print()"
   ]
  },
  {
   "cell_type": "markdown",
   "id": "f814bf13-af0a-4139-92f1-33d99dde38f1",
   "metadata": {},
   "source": [
    "# C"
   ]
  },
  {
   "cell_type": "code",
   "execution_count": 3,
   "id": "8feacd8a-754d-4bcd-b670-d51ee5a43af9",
   "metadata": {},
   "outputs": [
    {
     "name": "stdout",
     "output_type": "stream",
     "text": [
      "  * * * * * \n",
      "*           \n",
      "*           \n",
      "*           \n",
      "*           \n",
      "  * * * * * \n"
     ]
    }
   ],
   "source": [
    "rows=6\n",
    "cols=6\n",
    "for i in range(rows):\n",
    "    for j in range(cols):\n",
    "        if (\n",
    "            j==0 and i!=0 and i!=5 or \n",
    "            (i==0 or i==cols-1) and j>0):\n",
    "            print(\"*\",end=' ')\n",
    "        else:\n",
    "            print(\" \",end=' ')\n",
    "    print()"
   ]
  },
  {
   "cell_type": "markdown",
   "id": "c8d94088-685c-4619-a628-38e49b12398a",
   "metadata": {},
   "source": [
    "# D"
   ]
  },
  {
   "cell_type": "code",
   "execution_count": 4,
   "id": "64dcbc1f-59cb-437c-ae14-819ee8421c95",
   "metadata": {},
   "outputs": [
    {
     "name": "stdout",
     "output_type": "stream",
     "text": [
      "* * * * *   \n",
      "*         * \n",
      "*         * \n",
      "*         * \n",
      "*         * \n",
      "* * * * *   \n"
     ]
    }
   ],
   "source": [
    "rows=6\n",
    "cols=6\n",
    "for i in range(rows):\n",
    "    for j in range(cols):\n",
    "        if (\n",
    "            (i==0 or i==5) and j<5) or (j==0 or j==5 and i!=0 and i!=5):\n",
    "            print(\"*\",end=' ')\n",
    "        else:\n",
    "            print(\" \",end=' ')\n",
    "    print()"
   ]
  },
  {
   "cell_type": "markdown",
   "id": "04f5e0bf-3c8c-40ab-8833-50aa68e69cc3",
   "metadata": {},
   "source": [
    "# E"
   ]
  },
  {
   "cell_type": "code",
   "execution_count": 5,
   "id": "1471d262-6c2c-4b4b-abe1-d4d1f31665a5",
   "metadata": {},
   "outputs": [
    {
     "name": "stdout",
     "output_type": "stream",
     "text": [
      "* * * * * * \n",
      "*           \n",
      "*           \n",
      "* * * * * * \n",
      "*           \n",
      "*           \n",
      "* * * * * * \n"
     ]
    }
   ],
   "source": [
    "rows=7\n",
    "cols=6\n",
    "for i in range(rows):\n",
    "    for j in range(cols):\n",
    "        if (\n",
    "            j==0 or \n",
    "            (i==0 or i==cols) and j>0 or\n",
    "           i==rows//2 ):\n",
    "            print(\"*\",end=' ')\n",
    "        else:\n",
    "            print(\" \",end=' ')\n",
    "    print()"
   ]
  },
  {
   "cell_type": "markdown",
   "id": "d613d59e-9b9d-4195-8c6c-4bcf20e7b8b0",
   "metadata": {},
   "source": [
    "# F"
   ]
  },
  {
   "cell_type": "code",
   "execution_count": 6,
   "id": "e60423e2-cfea-4886-b9a9-24f73d5480e9",
   "metadata": {},
   "outputs": [
    {
     "name": "stdout",
     "output_type": "stream",
     "text": [
      "* * * * * * \n",
      "*           \n",
      "*           \n",
      "* * * * * * \n",
      "*           \n",
      "*           \n",
      "*           \n"
     ]
    }
   ],
   "source": [
    "rows=7\n",
    "cols=6\n",
    "for i in range(rows):\n",
    "    for j in range(cols):\n",
    "        if (\n",
    "            j==0 or \n",
    "            (i==0 ) and j>0 or\n",
    "           i==rows//2 ):\n",
    "            print(\"*\",end=' ')\n",
    "        else:\n",
    "            print(\" \",end=' ')\n",
    "    print()"
   ]
  },
  {
   "cell_type": "markdown",
   "id": "daa435a5-9c5e-47f5-817a-d0411c67f4aa",
   "metadata": {},
   "source": [
    "# G "
   ]
  },
  {
   "cell_type": "code",
   "execution_count": 7,
   "id": "f3a09af0-9f49-4ab0-9c98-f13c4b850be6",
   "metadata": {},
   "outputs": [
    {
     "name": "stdout",
     "output_type": "stream",
     "text": [
      "  * * * *   \n",
      "*           \n",
      "*           \n",
      "*   * * * * \n",
      "*         * \n",
      "  * * * * * \n"
     ]
    }
   ],
   "source": [
    "rows=6\n",
    "cols=6\n",
    "for i in range(rows):\n",
    "    for j in range(cols):\n",
    "        if (\n",
    "            (j==0 and i!=0 and i!=5) or \n",
    "            (i==0 ) and j>0 and j<cols-1 or\n",
    "           (i==rows//2 and j>1 and j<cols)  or\n",
    "        (i==cols-1 and j>0) or\n",
    "            (j==5 and i>=4)):\n",
    "            print(\"*\",end=' ')\n",
    "        else:\n",
    "            print(\" \",end=' ')\n",
    "    print()"
   ]
  },
  {
   "cell_type": "markdown",
   "id": "99344d7b-cb63-4dc5-9372-605309f612ed",
   "metadata": {},
   "source": [
    "# H"
   ]
  },
  {
   "cell_type": "code",
   "execution_count": 8,
   "id": "198b213b-b9f0-4714-ab15-b6ae599b4380",
   "metadata": {},
   "outputs": [
    {
     "name": "stdout",
     "output_type": "stream",
     "text": [
      "*         * \n",
      "*         * \n",
      "*         * \n",
      "* * * * * * \n",
      "*         * \n",
      "*         * \n",
      "*         * \n"
     ]
    }
   ],
   "source": [
    "rows=7\n",
    "cols=6\n",
    "for i in range(rows):\n",
    "    for j in range(cols):\n",
    "        if (( j==0 or j==cols-1) or\n",
    "        i==rows//2 and i>2 and i<4):\n",
    "\n",
    "            print(\"*\",end=' ')\n",
    "        else:\n",
    "            print(\" \",end=' ')\n",
    "    print()"
   ]
  },
  {
   "cell_type": "markdown",
   "id": "72ac034e-acd2-43b5-ab9e-016a88636268",
   "metadata": {},
   "source": [
    "# I"
   ]
  },
  {
   "cell_type": "code",
   "execution_count": 9,
   "id": "b6b3a90a-f616-48b5-bda0-46d41002e5c1",
   "metadata": {},
   "outputs": [
    {
     "name": "stdout",
     "output_type": "stream",
     "text": [
      "* * * * * * * \n",
      "      *       \n",
      "      *       \n",
      "      *       \n",
      "      *       \n",
      "      *       \n",
      "* * * * * * * \n"
     ]
    }
   ],
   "source": [
    "rows=7\n",
    "cols=7\n",
    "for i in range(rows):\n",
    "    for j in range(cols):\n",
    "        if (( j==cols//2) or\n",
    "            (i==0 or i==6)\n",
    "           ):\n",
    "\n",
    "            print(\"*\",end=' ')\n",
    "        else:\n",
    "            print(\" \",end=' ')\n",
    "    print()"
   ]
  },
  {
   "cell_type": "markdown",
   "id": "c59b1679-358b-4b68-8624-ad4c07d44fdc",
   "metadata": {},
   "source": [
    "# J"
   ]
  },
  {
   "cell_type": "code",
   "execution_count": 10,
   "id": "6e9f7998-a34a-4795-be99-5ebc61017c02",
   "metadata": {},
   "outputs": [
    {
     "name": "stdout",
     "output_type": "stream",
     "text": [
      "    * * * * *     \n",
      "        *         \n",
      "        *         \n",
      "        *         \n",
      "        *         \n",
      "  *     *         \n",
      "  * * *           \n"
     ]
    }
   ],
   "source": [
    "rows=7\n",
    "cols=9\n",
    "for i in range(rows):\n",
    "    for j in range(cols):\n",
    "        if (\n",
    "            (j==cols//2 and i!=0 and i!=6) or \n",
    "            (i==0 and j>1 and j<=6) or\n",
    "            (i==6 and  j>=1 and j<4) or\n",
    "            (j==1 and i>4)\n",
    "        ):\n",
    "            print(\"*\",end=' ')\n",
    "        else:\n",
    "            print(\" \",end=' ')\n",
    "    print()"
   ]
  },
  {
   "cell_type": "markdown",
   "id": "4905dd65-5379-4793-ac16-9533579f8c94",
   "metadata": {},
   "source": [
    "# k"
   ]
  },
  {
   "cell_type": "code",
   "execution_count": 11,
   "id": "99187c9d-0ff5-4388-a6b5-0e9c85d18b41",
   "metadata": {},
   "outputs": [
    {
     "name": "stdout",
     "output_type": "stream",
     "text": [
      "  *     * \n",
      "  *   *   \n",
      "  * *     \n",
      "  *   *   \n",
      "  *     * \n"
     ]
    }
   ],
   "source": [
    "rows=6\n",
    "cols=6\n",
    "for i in range(1,rows):\n",
    "    for j in range(1,cols):\n",
    "        if(\n",
    "            (j==2) or\n",
    "            ((i+j)==6 and j>2) or\n",
    "            (i==j and  j>=3)\n",
    "            ):\n",
    "            print(\"*\",end=' ')\n",
    "        else:\n",
    "            print(\" \",end=' ')\n",
    "    print()\n",
    "    "
   ]
  },
  {
   "cell_type": "markdown",
   "id": "25c08075-dd06-497d-a0cd-56f44665699a",
   "metadata": {},
   "source": [
    "# L"
   ]
  },
  {
   "cell_type": "code",
   "execution_count": 12,
   "id": "b394948d-2325-4dc7-a9e9-d699a69bfc21",
   "metadata": {},
   "outputs": [
    {
     "name": "stdout",
     "output_type": "stream",
     "text": [
      "      *       \n",
      "      *       \n",
      "      *       \n",
      "      *       \n",
      "      *       \n",
      "      *       \n",
      "      * * * * \n"
     ]
    }
   ],
   "source": [
    "rows=7\n",
    "cols=7\n",
    "for i in range(rows):\n",
    "    for j in range(rows):\n",
    "        if(\n",
    "            (j==cols//2) or \n",
    "            (i==cols-1 and j>cols//2)\n",
    "        ):\n",
    "            print(\"*\",end=' ')\n",
    "        else:\n",
    "            print(\" \",end=' ')\n",
    "    print()"
   ]
  },
  {
   "cell_type": "markdown",
   "id": "dd37a6db-92c8-49d4-b0c0-691c580e7a22",
   "metadata": {},
   "source": [
    "# M"
   ]
  },
  {
   "cell_type": "code",
   "execution_count": 13,
   "id": "f7ed291e-97e1-4e4f-81d8-7f40d3df5cba",
   "metadata": {},
   "outputs": [
    {
     "name": "stdout",
     "output_type": "stream",
     "text": [
      "*       * \n",
      "* *   * * \n",
      "*   *   * \n",
      "*       * \n",
      "*       * \n"
     ]
    }
   ],
   "source": [
    "rows=6\n",
    "cols=6\n",
    "for i in range(1,rows):\n",
    "    for j in range(1,cols):\n",
    "        if(\n",
    "            (j==1 and i>1)  or\n",
    "            (j==cols-1 and i>1) or\n",
    "            (i==j and i<4) or\n",
    "            ((i+j)==6 and j>3)\n",
    "        ):\n",
    "            print(\"*\",end=' ')\n",
    "        else:\n",
    "            print(\" \",end=' ')\n",
    "    print()\n"
   ]
  },
  {
   "cell_type": "markdown",
   "id": "dbbe60da-1616-4804-87ce-b115356e17a9",
   "metadata": {},
   "source": [
    "# N"
   ]
  },
  {
   "cell_type": "code",
   "execution_count": 14,
   "id": "0b90865e-1079-407b-b7d8-eb4b0d1e3a0e",
   "metadata": {},
   "outputs": [
    {
     "name": "stdout",
     "output_type": "stream",
     "text": [
      "*         * \n",
      "* *       * \n",
      "*   *     * \n",
      "*     *   * \n",
      "*       * * \n",
      "*         * \n"
     ]
    }
   ],
   "source": [
    "rows=7\n",
    "cols=7\n",
    "for i in range(1,rows):\n",
    "    for j in range(1,cols):\n",
    "        if(\n",
    "            (i==j) or\n",
    "            (j==1 and i>1) or\n",
    "            (j==cols-1 and i!=cols-1)\n",
    "        ):\n",
    "            print(\"*\",end=' ')\n",
    "        else:\n",
    "            print(\" \",end=' ')\n",
    "    print()"
   ]
  },
  {
   "cell_type": "markdown",
   "id": "98ced019-8330-4fa2-b9fe-89da79d57f02",
   "metadata": {},
   "source": [
    "# O"
   ]
  },
  {
   "cell_type": "code",
   "execution_count": 15,
   "id": "da922003-af2d-48d8-a0fe-d174955d0435",
   "metadata": {},
   "outputs": [
    {
     "name": "stdout",
     "output_type": "stream",
     "text": [
      "  * * * *   \n",
      "*         * \n",
      "*         * \n",
      "*         * \n",
      "*         * \n",
      "  * * * *   \n"
     ]
    }
   ],
   "source": [
    "rows=6\n",
    "cols=6\n",
    "for i in range(rows):\n",
    "    for j in range(cols):\n",
    "        if(\n",
    "            (j==0 or j==cols-1)  and i!=0 and i!=rows-1 or\n",
    "            (i==0 or i==rows-1) and j>0 and j<cols-1\n",
    "            \n",
    "        ):\n",
    "            print(\"*\",end=' ')\n",
    "        else:\n",
    "            print(\" \",end=' ')\n",
    "    print()\n",
    "            "
   ]
  },
  {
   "cell_type": "markdown",
   "id": "a7cbfdec-9a43-4bde-9df1-708fde7270f7",
   "metadata": {},
   "source": [
    "# P"
   ]
  },
  {
   "cell_type": "code",
   "execution_count": 16,
   "id": "92f061a3-fb34-4627-a1da-85fb60dea402",
   "metadata": {},
   "outputs": [
    {
     "name": "stdout",
     "output_type": "stream",
     "text": [
      "* * * * * *   \n",
      "*           * \n",
      "*           * \n",
      "* * * * * *   \n",
      "*             \n",
      "*             \n",
      "*             \n"
     ]
    }
   ],
   "source": [
    "rows=7\n",
    "cols=7\n",
    "for i in range(rows):\n",
    "    for j in range(cols):\n",
    "        if(\n",
    "            (j==0) and i!=0 or\n",
    "            (i==0 and j<cols-1 ) or\n",
    "            (i==rows//2 and j<cols-1) or\n",
    "            (j==cols-1  and i>0 and i<rows//2)\n",
    "            ):\n",
    "            print(\"*\",end=' ')\n",
    "        else:\n",
    "            print(\" \",end=' ')\n",
    "    print()"
   ]
  },
  {
   "cell_type": "markdown",
   "id": "c51aa77c-caa8-46f3-b327-bbab2da7acdc",
   "metadata": {},
   "source": [
    "# Q"
   ]
  },
  {
   "cell_type": "code",
   "execution_count": 17,
   "id": "5d52289e-aceb-4dee-82e9-fd53c3492aae",
   "metadata": {},
   "outputs": [
    {
     "name": "stdout",
     "output_type": "stream",
     "text": [
      "  * * * *   \n",
      "*         * \n",
      "*         * \n",
      "*         * \n",
      "*         * \n",
      "  * * * *   \n",
      "          * \n"
     ]
    }
   ],
   "source": [
    "rows=7\n",
    "cols=6\n",
    "for i in range(rows):\n",
    "    for j in range(cols):\n",
    "        if(\n",
    "            (j==0 or j==cols-1)  and i!=0 and i<5 or\n",
    "            (i==0 or i==rows-2) and j>0 and j<cols-1 or\n",
    "            (i==6 and j==5)\n",
    "            \n",
    "        ):\n",
    "            print(\"*\",end=' ')\n",
    "        else:\n",
    "            print(\" \",end=' ')\n",
    "    print()\n",
    "     "
   ]
  },
  {
   "cell_type": "markdown",
   "id": "dba94237-49a1-4f2e-90f3-d98b3337a7eb",
   "metadata": {},
   "source": [
    "# R"
   ]
  },
  {
   "cell_type": "code",
   "execution_count": 18,
   "id": "87307b50-6e1a-41f4-838f-837cc6ad9713",
   "metadata": {},
   "outputs": [
    {
     "name": "stdout",
     "output_type": "stream",
     "text": [
      "* * * * * *   \n",
      "*           * \n",
      "*           * \n",
      "* * * * * *   \n",
      "*       *     \n",
      "*         *   \n",
      "*           * \n"
     ]
    }
   ],
   "source": [
    "rows=7\n",
    "cols=7\n",
    "for i in range(rows):\n",
    "    for j in range(cols):\n",
    "        if(\n",
    "            (j==0) and i!=0 or\n",
    "            (i==0 and j<cols-1 ) or\n",
    "            (i==rows//2 and j<cols-1) or\n",
    "            (j==cols-1  and i>0 and i<rows//2) or\n",
    "            (i==j and i>rows//2)\n",
    "            ):\n",
    "            print(\"*\",end=' ')\n",
    "        else:\n",
    "            print(\" \",end=' ')\n",
    "    print()"
   ]
  },
  {
   "cell_type": "markdown",
   "id": "80ce69d5-4353-455b-b7b6-8185ead5cb56",
   "metadata": {},
   "source": [
    "# S"
   ]
  },
  {
   "cell_type": "code",
   "execution_count": 19,
   "id": "7ec813e2-fd3d-4db4-9f82-a3e0f0da1757",
   "metadata": {},
   "outputs": [
    {
     "name": "stdout",
     "output_type": "stream",
     "text": [
      "* * * * * * \n",
      "*           \n",
      "*           \n",
      "* * * * * * \n",
      "          * \n",
      "* * * * * * \n"
     ]
    }
   ],
   "source": [
    "rows=6\n",
    "cols=6\n",
    "for i in range(rows):\n",
    "    for j in range(cols):\n",
    "        if(\n",
    "            (j==0) and i!=4 or\n",
    "            (i==0 or i==rows-1) and j>0 and j<=cols-1 or\n",
    "            (i==rows//2) or\n",
    "            (j==cols-1) and i>rows//2\n",
    "            \n",
    "        ):\n",
    "            print(\"*\",end=' ')\n",
    "        else:\n",
    "            print(\" \",end=' ')\n",
    "    print()\n",
    "            "
   ]
  },
  {
   "cell_type": "markdown",
   "id": "be84d22a-692d-45a1-be89-e867b357e39c",
   "metadata": {},
   "source": [
    "# T"
   ]
  },
  {
   "cell_type": "code",
   "execution_count": 20,
   "id": "6eda7c2a-0ced-41a3-af60-08f0ecc867ac",
   "metadata": {},
   "outputs": [
    {
     "name": "stdout",
     "output_type": "stream",
     "text": [
      "* * * * * * * \n",
      "      *       \n",
      "      *       \n",
      "      *       \n",
      "      *       \n",
      "      *       \n",
      "      *       \n"
     ]
    }
   ],
   "source": [
    "rows=7\n",
    "cols=7\n",
    "for i in range(rows):\n",
    "    for j in range(cols):\n",
    "        if (( j==cols//2) or\n",
    "            (i==0)\n",
    "           ):\n",
    "\n",
    "            print(\"*\",end=' ')\n",
    "        else:\n",
    "            print(\" \",end=' ')\n",
    "    print()"
   ]
  },
  {
   "cell_type": "markdown",
   "id": "6f82ff1b-4dff-41c0-9bbe-6d60605c8e38",
   "metadata": {},
   "source": [
    "# U"
   ]
  },
  {
   "cell_type": "code",
   "execution_count": 21,
   "id": "87a48175-b18a-4195-90ee-e424e3085821",
   "metadata": {},
   "outputs": [
    {
     "name": "stdout",
     "output_type": "stream",
     "text": [
      "            \n",
      "*         * \n",
      "*         * \n",
      "*         * \n",
      "*         * \n",
      "  * * * *   \n"
     ]
    }
   ],
   "source": [
    "rows=6\n",
    "cols=6\n",
    "for i in range(rows):\n",
    "    for j in range(cols):\n",
    "        if(\n",
    "            (j==0 or j==cols-1)  and i!=0 and i!=rows-1 or\n",
    "            (i==rows-1) and j>0 and j<cols-1\n",
    "            \n",
    "        ):\n",
    "            print(\"*\",end=' ')\n",
    "        else:\n",
    "            print(\" \",end=' ')\n",
    "    print()"
   ]
  },
  {
   "cell_type": "markdown",
   "id": "62eb11b4-9ac1-460b-8ac6-2d88f93b2669",
   "metadata": {},
   "source": [
    "# V"
   ]
  },
  {
   "cell_type": "code",
   "execution_count": 22,
   "id": "9955d008-b95e-4536-8f9e-fff4f979d3a2",
   "metadata": {},
   "outputs": [
    {
     "name": "stdout",
     "output_type": "stream",
     "text": [
      "*       *\n",
      " *     * \n",
      "  *   *  \n",
      "   * *   \n",
      "    *    \n"
     ]
    }
   ],
   "source": [
    "n=5\n",
    "for i in range(n):\n",
    "        for j in range(n):\n",
    "            if j == i:\n",
    "                print(\"*\", end=\"\")\n",
    "            else:\n",
    "                print(\" \", end=\"\")\n",
    "        for j in range(n - 2, -1, -1):\n",
    "            if j == i:\n",
    "                print(\"*\", end=\"\")\n",
    "            else:\n",
    "                print(\" \", end=\"\")\n",
    "        print()"
   ]
  },
  {
   "cell_type": "markdown",
   "id": "2cfee40c-34bb-4dee-ba91-b260a6474694",
   "metadata": {},
   "source": [
    "# W"
   ]
  },
  {
   "cell_type": "code",
   "execution_count": 23,
   "id": "89687a51-38c0-412f-bb9f-0f107144d407",
   "metadata": {},
   "outputs": [
    {
     "name": "stdout",
     "output_type": "stream",
     "text": [
      "*       * \n",
      "*       * \n",
      "*   *   * \n",
      "* *   * * \n",
      "*       * \n"
     ]
    }
   ],
   "source": [
    "rows=6\n",
    "cols=6\n",
    "for i in range(1,rows):\n",
    "    for j in range(1,cols):\n",
    "        if(\n",
    "            (j==1 and i!=rows-1)  or\n",
    "            (j==cols-1 and i!=rows-1) or\n",
    "            (i==j and i>2) or\n",
    "            ((i+j==6) and i>3)\n",
    "        ):\n",
    "            print(\"*\",end=' ')\n",
    "        else:\n",
    "            print(\" \",end=' ')\n",
    "    print()"
   ]
  },
  {
   "cell_type": "markdown",
   "id": "b902c463-92f9-4245-8646-1ffbe6ef89c6",
   "metadata": {},
   "source": [
    "# X"
   ]
  },
  {
   "cell_type": "code",
   "execution_count": 24,
   "id": "859a8d39-3f53-4314-bc46-577c0e132222",
   "metadata": {},
   "outputs": [
    {
     "name": "stdout",
     "output_type": "stream",
     "text": [
      "*       * \n",
      "  *   *   \n",
      "    *     \n",
      "  *   *   \n",
      "*       * \n"
     ]
    }
   ],
   "source": [
    "rows=6\n",
    "cols=6\n",
    "for i in range(1,rows):\n",
    "    for j in range(1,cols):\n",
    "        if (\n",
    "            (i==j or i+j==6) and  (i<4 or i>3)\n",
    "        ):\n",
    "            print(\"*\",end=' ')\n",
    "        else:\n",
    "            print(\" \",end=' ')\n",
    "    print()"
   ]
  },
  {
   "cell_type": "markdown",
   "id": "f5a05416-989a-48b4-b506-2e5ed29090af",
   "metadata": {},
   "source": [
    "# Y"
   ]
  },
  {
   "cell_type": "code",
   "execution_count": 25,
   "id": "780440c3-a521-4c58-9fce-51c79ace6600",
   "metadata": {},
   "outputs": [
    {
     "name": "stdout",
     "output_type": "stream",
     "text": [
      "*       * \n",
      "  *   *   \n",
      "    *     \n",
      "    *     \n",
      "    *     \n"
     ]
    }
   ],
   "source": [
    "rows=6\n",
    "cols=6\n",
    "for i in range(1,rows):\n",
    "    for j in range(1,cols):\n",
    "        if (\n",
    "            (i==j or i+j==6) and  (i<4) or\n",
    "            j==rows//2 and i>rows//2\n",
    "        ):\n",
    "            print(\"*\",end=' ')\n",
    "        else:\n",
    "            print(\" \",end=' ')\n",
    "    print()"
   ]
  },
  {
   "cell_type": "markdown",
   "id": "44c267fb-6198-4338-b432-9e8dd57b5a97",
   "metadata": {},
   "source": [
    "# Z"
   ]
  },
  {
   "cell_type": "code",
   "execution_count": 26,
   "id": "98d39b52-0ca5-4b2d-81e1-c37210da6791",
   "metadata": {},
   "outputs": [
    {
     "name": "stdout",
     "output_type": "stream",
     "text": [
      "* * * * * * \n",
      "        *   \n",
      "      *     \n",
      "    *       \n",
      "  *         \n",
      "* * * * * * \n"
     ]
    }
   ],
   "source": [
    "rows=7\n",
    "cols=7\n",
    "for i in range(1,rows):\n",
    "    for j in range(1,cols):\n",
    "        if(\n",
    "            (i+j==7) or\n",
    "            (i==1 and j<cols-1) or\n",
    "            (i==rows-1 and j>1)\n",
    "        ):\n",
    "            print(\"*\",end=' ')\n",
    "        else:\n",
    "            print(\" \",end=' ')\n",
    "    print()"
   ]
  }
 ],
 "metadata": {
  "kernelspec": {
   "display_name": "Python 3 (ipykernel)",
   "language": "python",
   "name": "python3"
  },
  "language_info": {
   "codemirror_mode": {
    "name": "ipython",
    "version": 3
   },
   "file_extension": ".py",
   "mimetype": "text/x-python",
   "name": "python",
   "nbconvert_exporter": "python",
   "pygments_lexer": "ipython3",
   "version": "3.12.0"
  }
 },
 "nbformat": 4,
 "nbformat_minor": 5
}
